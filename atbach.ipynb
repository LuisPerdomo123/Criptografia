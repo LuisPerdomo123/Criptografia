{
  "nbformat": 4,
  "nbformat_minor": 0,
  "metadata": {
    "colab": {
      "provenance": [],
      "authorship_tag": "ABX9TyMrgLSyfmY+iCp2Ml/X616G",
      "include_colab_link": true
    },
    "kernelspec": {
      "name": "python3",
      "display_name": "Python 3"
    },
    "language_info": {
      "name": "python"
    }
  },
  "cells": [
    {
      "cell_type": "markdown",
      "metadata": {
        "id": "view-in-github",
        "colab_type": "text"
      },
      "source": [
        "<a href=\"https://colab.research.google.com/github/LuisPerdomo123/criptografia/blob/main/atbach.ipynb\" target=\"_parent\"><img src=\"https://colab.research.google.com/assets/colab-badge.svg\" alt=\"Open In Colab\"/></a>"
      ]
    },
    {
      "cell_type": "code",
      "execution_count": 17,
      "metadata": {
        "id": "L7JyfSFpS-NW",
        "colab": {
          "base_uri": "https://localhost:8080/"
        },
        "outputId": "235450fc-2151-4ffa-fe57-5d0eb2aaa528"
      },
      "outputs": [
        {
          "output_type": "stream",
          "name": "stdout",
          "text": [
            "Introduce un texto: asdfgh\n",
            "ZHWUTS\n",
            "\n"
          ]
        }
      ],
      "source": [
        "import pyperclip\n",
        "\n",
        "# Alfabetos empleados\n",
        "CLARO = 'abcdefghijklmnopqrstuvwxyz '\n",
        "CIFRADO = 'ZYXWVUTSRQPONMLKJIHGFEDCBA '\n",
        "\n",
        "# Almacenada la forma cifrada/descifrada del texto\n",
        "salida = ''\n",
        "\n",
        "# Guarda el texto introducido\n",
        "texto = input('Introduce un texto: ')\n",
        "\n",
        "# Ejecuta el cifrado/descifrado letra a letra\n",
        "for simbolo in texto.lower():\n",
        "    if simbolo in CLARO:\n",
        "        # Identifica la posición de cada símbolo\n",
        "        indice = CLARO.index(simbolo)\n",
        "        # Añade un nuevo símbolo al texto cifrado/descifrado\n",
        "        salida += CIFRADO[indice]\n",
        "\n",
        "# Imprime en pantalla el resultado\n",
        "print(salida)\n",
        "\n",
        "# Intenta copiar el mensaje al portapapeles, maneja la excepción si falla\n",
        "try:\n",
        "    pyperclip.copy(salida)\n",
        "    print(\"Texto copiado al portapapeles.\")\n",
        "except pyperclip.PyperclipException:\n",
        "    print(\"\")\n"
      ]
    },
    {
      "cell_type": "markdown",
      "source": [],
      "metadata": {
        "id": "OlYsDcODTX_4"
      }
    }
  ]
}