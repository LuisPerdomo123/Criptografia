{
  "nbformat": 4,
  "nbformat_minor": 0,
  "metadata": {
    "colab": {
      "provenance": [],
      "authorship_tag": "ABX9TyPZEl1L02+gDyWvw2fPu7rM",
      "include_colab_link": true
    },
    "kernelspec": {
      "name": "python3",
      "display_name": "Python 3"
    },
    "language_info": {
      "name": "python"
    }
  },
  "cells": [
    {
      "cell_type": "markdown",
      "metadata": {
        "id": "view-in-github",
        "colab_type": "text"
      },
      "source": [
        "<a href=\"https://colab.research.google.com/github/LuisPerdomo123/criptografia/blob/main/atbach.ipynb\" target=\"_parent\"><img src=\"https://colab.research.google.com/assets/colab-badge.svg\" alt=\"Open In Colab\"/></a>"
      ]
    },
    {
      "cell_type": "code",
      "execution_count": 15,
      "metadata": {
        "id": "L7JyfSFpS-NW",
        "colab": {
          "base_uri": "https://localhost:8080/",
          "height": 367
        },
        "outputId": "21beed6a-4ab5-4d6e-988c-601eaf713ad3"
      },
      "outputs": [
        {
          "output_type": "stream",
          "name": "stdout",
          "text": [
            "Introduce un texto: ad\n",
            "ZW\n"
          ]
        },
        {
          "output_type": "error",
          "ename": "PyperclipException",
          "evalue": "\n    Pyperclip could not find a copy/paste mechanism for your system.\n    For more information, please visit https://pyperclip.readthedocs.io/en/latest/index.html#not-implemented-error ",
          "traceback": [
            "\u001b[0;31m---------------------------------------------------------------------------\u001b[0m",
            "\u001b[0;31mPyperclipException\u001b[0m                        Traceback (most recent call last)",
            "\u001b[0;32m<ipython-input-15-323296dc0b90>\u001b[0m in \u001b[0;36m<cell line: 27>\u001b[0;34m()\u001b[0m\n\u001b[1;32m     25\u001b[0m \u001b[0;34m\u001b[0m\u001b[0m\n\u001b[1;32m     26\u001b[0m \u001b[0;31m# Copia el mensaje al portapapeles\u001b[0m\u001b[0;34m\u001b[0m\u001b[0;34m\u001b[0m\u001b[0m\n\u001b[0;32m---> 27\u001b[0;31m \u001b[0mpyperclip\u001b[0m\u001b[0;34m.\u001b[0m\u001b[0mcopy\u001b[0m\u001b[0;34m(\u001b[0m\u001b[0msalida\u001b[0m\u001b[0;34m)\u001b[0m\u001b[0;34m\u001b[0m\u001b[0;34m\u001b[0m\u001b[0m\n\u001b[0m",
            "\u001b[0;32m/usr/local/lib/python3.10/dist-packages/pyperclip/__init__.py\u001b[0m in \u001b[0;36m__call__\u001b[0;34m(self, *args, **kwargs)\u001b[0m\n\u001b[1;32m    334\u001b[0m \u001b[0;34m\u001b[0m\u001b[0m\n\u001b[1;32m    335\u001b[0m         \u001b[0;32mdef\u001b[0m \u001b[0m__call__\u001b[0m\u001b[0;34m(\u001b[0m\u001b[0mself\u001b[0m\u001b[0;34m,\u001b[0m \u001b[0;34m*\u001b[0m\u001b[0margs\u001b[0m\u001b[0;34m,\u001b[0m \u001b[0;34m**\u001b[0m\u001b[0mkwargs\u001b[0m\u001b[0;34m)\u001b[0m\u001b[0;34m:\u001b[0m\u001b[0;34m\u001b[0m\u001b[0;34m\u001b[0m\u001b[0m\n\u001b[0;32m--> 336\u001b[0;31m             \u001b[0;32mraise\u001b[0m \u001b[0mPyperclipException\u001b[0m\u001b[0;34m(\u001b[0m\u001b[0mEXCEPT_MSG\u001b[0m\u001b[0;34m)\u001b[0m\u001b[0;34m\u001b[0m\u001b[0;34m\u001b[0m\u001b[0m\n\u001b[0m\u001b[1;32m    337\u001b[0m \u001b[0;34m\u001b[0m\u001b[0m\n\u001b[1;32m    338\u001b[0m         \u001b[0;32mif\u001b[0m \u001b[0mPY2\u001b[0m\u001b[0;34m:\u001b[0m\u001b[0;34m\u001b[0m\u001b[0;34m\u001b[0m\u001b[0m\n",
            "\u001b[0;31mPyperclipException\u001b[0m: \n    Pyperclip could not find a copy/paste mechanism for your system.\n    For more information, please visit https://pyperclip.readthedocs.io/en/latest/index.html#not-implemented-error "
          ]
        }
      ],
      "source": [
        "# Cibra atbash\n",
        "\n",
        "import pyperclip\n",
        "\n",
        "# Alfabetos empleados\n",
        "CLARO = 'abcdefghijklmnopqrstuvwxyz '\n",
        "CIFRADO = 'ZYXWVUTSRQPONMLKJIHGFEDCBA '\n",
        "\n",
        "# Almacenada la forma cifrada/descifrada del texto\n",
        "salida = ''\n",
        "\n",
        "# Guarda el texto introducido\n",
        "texto = input('Introduce un texto: ')\n",
        "\n",
        "# Ejecuta el cifrado/descifrado letra a letra\n",
        "for simbolo in texto.lower():\n",
        "  if simbolo in CLARO:\n",
        "    # Identifica la posición de cada símbolo\n",
        "    indice = CLARO.index(simbolo)\n",
        "    # Añade un nuevo símbolo al texto cifrado/descifrado\n",
        "    salida += CIFRADO[indice]\n",
        "\n",
        "# Imprime en pantalla el resultado\n",
        "print(salida)\n",
        "\n",
        "# Copia el mensaje al portapapeles\n",
        "pyperclip.copy(salida)"
      ]
    },
    {
      "cell_type": "markdown",
      "source": [],
      "metadata": {
        "id": "OlYsDcODTX_4"
      }
    }
  ]
}