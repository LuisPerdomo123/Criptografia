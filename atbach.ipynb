{
  "nbformat": 4,
  "nbformat_minor": 0,
  "metadata": {
    "colab": {
      "provenance": [],
      "authorship_tag": "ABX9TyMkAN2kpE0nzpUGeK08uM5O",
      "include_colab_link": true
    },
    "kernelspec": {
      "name": "python3",
      "display_name": "Python 3"
    },
    "language_info": {
      "name": "python"
    }
  },
  "cells": [
    {
      "cell_type": "markdown",
      "metadata": {
        "id": "view-in-github",
        "colab_type": "text"
      },
      "source": [
        "<a href=\"https://colab.research.google.com/github/LuisPerdomo123/criptografia/blob/main/atbach.ipynb\" target=\"_parent\"><img src=\"https://colab.research.google.com/assets/colab-badge.svg\" alt=\"Open In Colab\"/></a>"
      ]
    },
    {
      "cell_type": "code",
      "execution_count": 12,
      "metadata": {
        "id": "L7JyfSFpS-NW",
        "colab": {
          "base_uri": "https://localhost:8080/"
        },
        "outputId": "d02db047-4c8f-4e19-efeb-007905530982"
      },
      "outputs": [
        {
          "name": "stdout",
          "output_type": "stream",
          "text": [
            "Introduce un texto: aas\n"
          ]
        }
      ],
      "source": [
        "# Cibra atbash\n",
        "\n",
        "import pyperclip\n",
        "\n",
        "# Alfabetos empleados\n",
        "CLARO = 'abcdefghijklmnopqrstuvwxyz '\n",
        "CIFRADO = 'ZYXWVUTSRQPONMLKJIHGFEDCBA '\n",
        "\n",
        "# Almacenada la forma cifrada/descifrada del texto\n",
        "salida = ''\n",
        "\n",
        "# Guarda el texto introducido\n",
        "texto = input('Introduce un texto: ')\n",
        "\n"
      ]
    },
    {
      "cell_type": "code",
      "source": [
        "# Ejecuta el cifrado/descifrado letra a letra\n",
        "for simbolo in texto.lower():\n",
        "  if simbolo in CLARO:\n",
        "    # Identifica la posición de cada símbolo\n",
        "    indice = CLARO.index(simbolo)\n",
        "    # Añade un nuevo símbolo al texto cifrado/descifrado\n",
        "    salida += CIFRADO(indice)\n",
        "\n",
        "# Imprime en pantalla el resultado\n",
        "print(salida)\n",
        "\n",
        "# Copia el mensaje al portapapeles\n",
        "pyperclip.copy(salida)"
      ],
      "metadata": {
        "colab": {
          "base_uri": "https://localhost:8080/",
          "height": 211
        },
        "id": "IJ28wTYAexX0",
        "outputId": "5b52073d-5cc5-42f4-c043-7aacacc46cff"
      },
      "execution_count": 13,
      "outputs": [
        {
          "output_type": "error",
          "ename": "TypeError",
          "evalue": "'str' object is not callable",
          "traceback": [
            "\u001b[0;31m---------------------------------------------------------------------------\u001b[0m",
            "\u001b[0;31mTypeError\u001b[0m                                 Traceback (most recent call last)",
            "\u001b[0;32m<ipython-input-13-858adf0553a8>\u001b[0m in \u001b[0;36m<cell line: 2>\u001b[0;34m()\u001b[0m\n\u001b[1;32m      5\u001b[0m     \u001b[0mindice\u001b[0m \u001b[0;34m=\u001b[0m \u001b[0mCLARO\u001b[0m\u001b[0;34m.\u001b[0m\u001b[0mindex\u001b[0m\u001b[0;34m(\u001b[0m\u001b[0msimbolo\u001b[0m\u001b[0;34m)\u001b[0m\u001b[0;34m\u001b[0m\u001b[0;34m\u001b[0m\u001b[0m\n\u001b[1;32m      6\u001b[0m     \u001b[0;31m# Añade un nuevo símbolo al texto cifrado/descifrado\u001b[0m\u001b[0;34m\u001b[0m\u001b[0;34m\u001b[0m\u001b[0m\n\u001b[0;32m----> 7\u001b[0;31m     \u001b[0msalida\u001b[0m \u001b[0;34m+=\u001b[0m \u001b[0mCIFRADO\u001b[0m\u001b[0;34m(\u001b[0m\u001b[0mindice\u001b[0m\u001b[0;34m)\u001b[0m\u001b[0;34m\u001b[0m\u001b[0;34m\u001b[0m\u001b[0m\n\u001b[0m\u001b[1;32m      8\u001b[0m \u001b[0;34m\u001b[0m\u001b[0m\n\u001b[1;32m      9\u001b[0m \u001b[0;31m# Imprime en pantalla el resultado\u001b[0m\u001b[0;34m\u001b[0m\u001b[0;34m\u001b[0m\u001b[0m\n",
            "\u001b[0;31mTypeError\u001b[0m: 'str' object is not callable"
          ]
        }
      ]
    },
    {
      "cell_type": "markdown",
      "source": [],
      "metadata": {
        "id": "OlYsDcODTX_4"
      }
    }
  ]
}