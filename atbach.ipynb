{
  "nbformat": 4,
  "nbformat_minor": 0,
  "metadata": {
    "colab": {
      "provenance": [],
      "authorship_tag": "ABX9TyPuX6zR8ziZXXoaLlXHotE9",
      "include_colab_link": true
    },
    "kernelspec": {
      "name": "python3",
      "display_name": "Python 3"
    },
    "language_info": {
      "name": "python"
    }
  },
  "cells": [
    {
      "cell_type": "markdown",
      "metadata": {
        "id": "view-in-github",
        "colab_type": "text"
      },
      "source": [
        "<a href=\"https://colab.research.google.com/github/LuisPerdomo123/criptografia/blob/main/atbach.ipynb\" target=\"_parent\"><img src=\"https://colab.research.google.com/assets/colab-badge.svg\" alt=\"Open In Colab\"/></a>"
      ]
    },
    {
      "cell_type": "markdown",
      "source": [
        "# LA CIFRA ATBASH\n",
        "\n",
        "Es un método criptográfico de sustitución monoalfabética muy empleado en el alfabeto hebreo entre los años 600 y 500 a. C. (Galende, 1995). También se le conoce como código espejo, pues el alfabeto de sustitución se obtiene cambiando la primera letra del alfabeto por la última, la segunda por la penúltima y así sucesivamente. Este método hace que los procesos de cifrado y descifrado sean completamente identicos y que su debilidad criptográfica se notable. Su uso más célebre se recoge en el libro de Jeremías, donde se sustituye la palabra Babel (Babilonia) por el criptograma SHESHACH.\n",
        "\n",
        "En todo caso, hay que tener presente que este método de cifrado se ideó para un sistema de escritura donde solo hay símbolos para los fonemas consonánticos, que luego se vocalizan de manera más o menos arbitraria, de modo que cualquier palabra hebrea es pronunciable al cifrarse en arbash (López Guerrero, 2006). Lógicamente, no ocurre lo mismo en ninguno de los idiomas con alfabetos plenos, como el nuestro. La cifra atbash para el alfabeto latino sería así:\n",
        "\n",
        "Alfabeto: a b c d e f g h i j k l m n o p q r s t u v w x y z\n",
        "\n",
        "Cifra: Z Y X W V U T S R Q P O N M L K J I H G F E D C B A\n",
        "\n",
        "Un simple criptoanálisis estadístico del criptograma es suficiente para poner de manifiesto el uso de la cifra atbash y, por tanto, para descifrar el texto (Sinkov, 2009). Como veremos algo más adelante, esta cifra puede estudiarse como un caso particular de cifrao afin, de modo que su criptoanálisis por ordenador será inmediato. No obstante, la simplicidad del programa que necesitamos escribir ahora para cifrar y descifrar textos con atbash nos es muy útil para presentarlo como nuestro primer proyecto."
      ],
      "metadata": {
        "id": "06BNdhtTjDYE"
      }
    },
    {
      "cell_type": "code",
      "execution_count": 23,
      "metadata": {
        "id": "L7JyfSFpS-NW",
        "colab": {
          "base_uri": "https://localhost:8080/"
        },
        "outputId": "8d1f1c8a-2a95-4f4f-c655-56b46eb6057f"
      },
      "outputs": [
        {
          "output_type": "stream",
          "name": "stdout",
          "text": [
            "Introduce un texto: OZ NRHRLM SZ HRWL FM VCRGL\n",
            "LA MISION HA SIDO UN EXITO\n",
            "\n"
          ]
        }
      ],
      "source": [
        "import pyperclip\n",
        "\n",
        "# Alfabetos empleados\n",
        "CLARO = 'abcdefghijklmnopqrstuvwxyz '\n",
        "CIFRADO = 'ZYXWVUTSRQPONMLKJIHGFEDCBA '\n",
        "\n",
        "# Almacenada la forma cifrada/descifrada del texto\n",
        "salida = ''\n",
        "\n",
        "# Guarda el texto introducido\n",
        "texto = input('Introduce un texto: ')\n",
        "\n",
        "# Ejecuta el cifrado/descifrado letra a letra\n",
        "for simbolo in texto.lower():\n",
        "    if simbolo in CLARO:\n",
        "        # Identifica la posición de cada símbolo\n",
        "        indice = CLARO.index(simbolo)\n",
        "        # Añade un nuevo símbolo al texto cifrado/descifrado\n",
        "        salida += CIFRADO[indice]\n",
        "\n",
        "# Imprime en pantalla el resultado\n",
        "print(salida)\n",
        "\n",
        "# Intenta copiar el mensaje al portapapeles, maneja la excepción si falla\n",
        "try:\n",
        "    pyperclip.copy(salida)\n",
        "    print(\"Texto copiado al portapapeles.\")\n",
        "except pyperclip.PyperclipException:\n",
        "    print(\"\")\n"
      ]
    },
    {
      "cell_type": "markdown",
      "source": [],
      "metadata": {
        "id": "OlYsDcODTX_4"
      }
    }
  ]
}