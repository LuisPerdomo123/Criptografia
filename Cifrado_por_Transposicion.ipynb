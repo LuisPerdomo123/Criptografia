{
  "nbformat": 4,
  "nbformat_minor": 0,
  "metadata": {
    "colab": {
      "provenance": [],
      "authorship_tag": "ABX9TyMZaY8JyTGCZuOTGvfCcAZ9",
      "include_colab_link": true
    },
    "kernelspec": {
      "name": "python3",
      "display_name": "Python 3"
    },
    "language_info": {
      "name": "python"
    }
  },
  "cells": [
    {
      "cell_type": "markdown",
      "metadata": {
        "id": "view-in-github",
        "colab_type": "text"
      },
      "source": [
        "<a href=\"https://colab.research.google.com/github/LuisPerdomo123/Criptografia/blob/main/Cifrado_por_Transposicion.ipynb\" target=\"_parent\"><img src=\"https://colab.research.google.com/assets/colab-badge.svg\" alt=\"Open In Colab\"/></a>"
      ]
    },
    {
      "cell_type": "markdown",
      "source": [
        "# Cifrado por transposición\n",
        "\n",
        "Los métodos criptográficos, como ya conocemos, se clasifican en dos grandes técnicas de transformación del texto plano: los métdos de sustitución y los de transposición (Bauer, 2000).\n",
        "\n",
        "La debilidad cifra César estriba en su reducido espacio de claves, lo que permite efectuarun ataque de fuerza bruta en un tiempo y con un coste muy reducido.\n",
        "\n",
        "El cifrado por transposición es otra de las técnicas básicas de criptografía. Consiste en intercambiar la posición de las letras de un mensaje siguiendo un algoritmo conocido. En mensajes cortos, como en el caso de una única palabra, este método no es seguro porque existen pocas maneras de variar la distribución de las letras (Card, 2009). Por ejemplo, una palabra de tres letras solo puede asumir seis formas diferentes (3!=6). Obviamente,a medida que el número de letras aumenta, la cantidad de permutaciones se multiplica rápidamente y es casi imposible obtener el texto original si no se conoce el algoritmo seguido."
      ],
      "metadata": {
        "id": "sqP6BJk5OmCk"
      }
    },
    {
      "cell_type": "code",
      "execution_count": 5,
      "metadata": {
        "colab": {
          "base_uri": "https://localhost:8080/",
          "height": 69
        },
        "id": "FurcEHOgOPdH",
        "outputId": "4a401e9b-ecf9-4e96-92d4-c9d98ea0ed35"
      },
      "outputs": [
        {
          "output_type": "stream",
          "name": "stdout",
          "text": [
            "Introduce el mensaje: hola como\n",
            "y la clave numérica: 123456\n",
            "HOLAC OMO\n"
          ]
        },
        {
          "output_type": "display_data",
          "data": {
            "text/plain": [
              "<IPython.core.display.Javascript object>"
            ],
            "application/javascript": [
              "\n",
              "    async function download(id, filename, size) {\n",
              "      if (!google.colab.kernel.accessAllowed) {\n",
              "        return;\n",
              "      }\n",
              "      const div = document.createElement('div');\n",
              "      const label = document.createElement('label');\n",
              "      label.textContent = `Downloading \"${filename}\": `;\n",
              "      div.appendChild(label);\n",
              "      const progress = document.createElement('progress');\n",
              "      progress.max = size;\n",
              "      div.appendChild(progress);\n",
              "      document.body.appendChild(div);\n",
              "\n",
              "      const buffers = [];\n",
              "      let downloaded = 0;\n",
              "\n",
              "      const channel = await google.colab.kernel.comms.open(id);\n",
              "      // Send a message to notify the kernel that we're ready.\n",
              "      channel.send({})\n",
              "\n",
              "      for await (const message of channel.messages) {\n",
              "        // Send a message to notify the kernel that we're ready.\n",
              "        channel.send({})\n",
              "        if (message.buffers) {\n",
              "          for (const buffer of message.buffers) {\n",
              "            buffers.push(buffer);\n",
              "            downloaded += buffer.byteLength;\n",
              "            progress.value = downloaded;\n",
              "          }\n",
              "        }\n",
              "      }\n",
              "      const blob = new Blob(buffers, {type: 'application/binary'});\n",
              "      const a = document.createElement('a');\n",
              "      a.href = window.URL.createObjectURL(blob);\n",
              "      a.download = filename;\n",
              "      div.appendChild(a);\n",
              "      a.click();\n",
              "      div.remove();\n",
              "    }\n",
              "  "
            ]
          },
          "metadata": {}
        },
        {
          "output_type": "display_data",
          "data": {
            "text/plain": [
              "<IPython.core.display.Javascript object>"
            ],
            "application/javascript": [
              "download(\"download_475b7d90-c14e-4e15-a65e-d605014d6356\", \"criptograma.txt\", 9)"
            ]
          },
          "metadata": {}
        }
      ],
      "source": [
        "# Cifrador transposición columnar simple\n",
        "\n",
        "import pyperclip\n",
        "\n",
        "def main():\n",
        "  mensaje = input('Introduce el mensaje: ')\n",
        "  clave = int(input('y la clave numérica: '))\n",
        "  mensaje = eliminar_espacios(mensaje)\n",
        "\n",
        "  criptograma = salida(cifrar(mensaje, clave))\n",
        "\n",
        "  # Imprime en pantalla el criptograma\n",
        "  print(criptograma.upper())\n",
        "\n",
        "  # Guardar el criptograma en un archivo de texto\n",
        "  with open('criptograma.txt', 'w') as file:\n",
        "      file.write(criptograma)\n",
        "\n",
        "  # Ofrecer el archivo para descargar\n",
        "  from google.colab import files\n",
        "  files.download('criptograma.txt')\n",
        "\n",
        "# Elimina espacios en blanco en el mensaje\n",
        "def eliminar_espacios(mensaje):\n",
        "  mensaje_nuevo = ''\n",
        "  for simbolo in mensaje:\n",
        "    if simbolo != ' ':\n",
        "      mensaje_nuevo += simbolo\n",
        "  return mensaje_nuevo\n",
        "\n",
        "# Agrupa las letras en grupos de 5\n",
        "def salida(criptograma):\n",
        "  BLOQUE = 5\n",
        "  texto = ''\n",
        "  for i in range(len(criptograma)):\n",
        "    if (i+1) % BLOQUE !=0:\n",
        "      texto += criptograma[i]\n",
        "    else:\n",
        "      texto += criptograma[i]+' '\n",
        "  return texto\n",
        "\n",
        "\n",
        "def cifrar(mensaje, clave):\n",
        "  # Cada cadena del criptograma es una\n",
        "  # columna de la lista\n",
        "  criptograma = ['']*clave\n",
        "\n",
        "  # Recorremos cada columna de la tabla\n",
        "  for col in range(clave):\n",
        "    pos = col\n",
        "\n",
        "    # En cada columna añadimos las letras hasta\n",
        "    # que por sobrepase la longitud del mensaje\n",
        "    while pos < len(mensaje):\n",
        "      criptograma[col] += mensaje[pos]\n",
        "\n",
        "      # desplazamos la posición\n",
        "      pos += clave\n",
        "\n",
        "  # Convertimos la lista en una única cadena\n",
        "  return ''.join(criptograma)\n",
        "\n",
        "# Si se ejecuta el programa (en vez de importarse)\n",
        "# llama a l función main() inmediatamente\n",
        "if __name__ == '__main__':\n",
        "  main()"
      ]
    },
    {
      "cell_type": "code",
      "source": [],
      "metadata": {
        "id": "VGXdEWcjdXO6"
      },
      "execution_count": null,
      "outputs": []
    }
  ]
}