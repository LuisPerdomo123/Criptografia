{
  "nbformat": 4,
  "nbformat_minor": 0,
  "metadata": {
    "colab": {
      "provenance": [],
      "authorship_tag": "ABX9TyNUQ/N7xSeEye+lTx91dr7d",
      "include_colab_link": true
    },
    "kernelspec": {
      "name": "python3",
      "display_name": "Python 3"
    },
    "language_info": {
      "name": "python"
    }
  },
  "cells": [
    {
      "cell_type": "markdown",
      "metadata": {
        "id": "view-in-github",
        "colab_type": "text"
      },
      "source": [
        "<a href=\"https://colab.research.google.com/github/LuisPerdomo123/Criptografia/blob/main/Cifrado_por_Transposicion.ipynb\" target=\"_parent\"><img src=\"https://colab.research.google.com/assets/colab-badge.svg\" alt=\"Open In Colab\"/></a>"
      ]
    },
    {
      "cell_type": "markdown",
      "source": [
        "# Cifrado por transposición\n",
        "\n",
        "Los métodos criptográficos, como ya conocemos, se clasifican en dos grandes técnicas de transformación del texto plano: los métdos de sustitución y los de transposición (Bauer, 2000).\n",
        "\n",
        "La debilidad cifra César estriba en su reducido espacio de claves, lo que permite efectuarun ataque de fuerza bruta en un tiempo y con un coste muy reducido.\n",
        "\n",
        "El cifrado por transposición es otra de las técnicas básicas de criptografía. Consiste en intercambiar la posición de las letras de un mensaje siguiendo un algoritmo conocido. En mensajes cortos, como en el caso de una única palabra, este método no es seguro porque existen pocas maneras de variar la distribución de las letras (Card, 2009). Por ejemplo, una palabra de tres letras solo puede asumir seis formas diferentes (3!=6). Obviamente,a medida que el número de letras aumenta, la cantidad de permutaciones se multiplica rápidamente y es casi imposible obtener el texto original si no se conoce el algoritmo seguido."
      ],
      "metadata": {
        "id": "sqP6BJk5OmCk"
      }
    },
    {
      "cell_type": "code",
      "execution_count": null,
      "metadata": {
        "id": "FurcEHOgOPdH"
      },
      "outputs": [],
      "source": [
        "# Cifrador transposición columnar simple\n",
        "\n",
        "import pyperclip\n",
        "\n",
        "def main():\n",
        "  mensaje = input('Introduce el mensaje: ')\n",
        "  clave = int(input('y la clave numérica: '))\n",
        "  mensaje = eliminar_espacios(mensaje)\n",
        "\n",
        "  criptograma = salida(cifrar(mensaje, clave))\n",
        "\n",
        "  # Imprime en pantalla el criptograma\n",
        "  print(criptograma.upper())\n",
        "  # Y la copia al portapapeles\n",
        "  pyperclip.copy(criptograma)\n",
        "\n",
        "  # Elimina espacios en blanco en el mensaje\n",
        "  def eliminar_espacios(mensaje):\n",
        "    mensaje_nuevo = ''\n",
        "    for simbolo in mensaje:\n",
        "      if simbolo != ' ':\n",
        "        mensaje_nuevo += simbolo\n",
        "    return mensaje_nuevo\n",
        "\n",
        "# Agrupa las letras en grupos de 5\n",
        "def salida(criptograma):\n",
        "  BLOQUE = 5\n",
        "  texto = ''\n",
        "  for i in range(len(criptograma)):\n",
        "    if (i+1) % BLOQUE !=0:\n",
        "      test += criptograma[i]\n",
        "    else:\n",
        "      texto += criptograma[i]+' '\n",
        "  return texto"
      ]
    }
  ]
}