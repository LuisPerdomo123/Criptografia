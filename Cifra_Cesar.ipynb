{
  "nbformat": 4,
  "nbformat_minor": 0,
  "metadata": {
    "colab": {
      "provenance": [],
      "authorship_tag": "ABX9TyOp9XlMCfLJYtKeizJ9DDo+",
      "include_colab_link": true
    },
    "kernelspec": {
      "name": "python3",
      "display_name": "Python 3"
    },
    "language_info": {
      "name": "python"
    }
  },
  "cells": [
    {
      "cell_type": "markdown",
      "metadata": {
        "id": "view-in-github",
        "colab_type": "text"
      },
      "source": [
        "<a href=\"https://colab.research.google.com/github/LuisPerdomo123/criptografia/blob/main/Cifra_Cesar.ipynb\" target=\"_parent\"><img src=\"https://colab.research.google.com/assets/colab-badge.svg\" alt=\"Open In Colab\"/></a>"
      ]
    },
    {
      "cell_type": "markdown",
      "source": [
        "# LA CIFRA CÉSAR\n",
        "\n",
        "El cifrado César, también conocido como cifrado por desplazamiento, es una de las técnicas criptográficas de cifrado más simples y más usadas. Es un tipo de cifrado por sustitución monoalfabética en el que una letra en el texto original es reemplazada por otra letra que se encuentra un número fijo de posiciones más adelante en el alfabeto. Por ejemplo, con un desplazamiento de 3, la a sería sustituida por la D (situada tres lugares a la derecha de la a), la b sería reemplazada por la E, etc. Este método debe su nombre a Julio César, qe lo usaba para comunicarse con sus generales.\n",
        "\n",
        "Aunque Suetonio solo menciona que Julio César usaba un cambio de tres lugares, es evidente que al utilizar cualquier desplazamiento entre 1 y 25 lugares es posible generar 25 cifras distintas."
      ],
      "metadata": {
        "id": "9XJKoVJixaQE"
      }
    },
    {
      "cell_type": "code",
      "execution_count": 5,
      "metadata": {
        "colab": {
          "base_uri": "https://localhost:8080/",
          "height": 436
        },
        "id": "gifDrV07vz_-",
        "outputId": "f9023d67-b3ea-4975-cc0e-2bf6bfdb2a9f"
      },
      "outputs": [
        {
          "output_type": "stream",
          "name": "stdout",
          "text": [
            "Este programa cifra o descifra un mensaje mediante la cifra César \n",
            "\n",
            "¿Deseas cifrar o descifrar? (c/D) c\n",
            "Introduce el texto: Gallia est omnis divisa in partes tres\n",
            "Y la clave (1-25): 26\n",
            "\n"
          ]
        },
        {
          "output_type": "error",
          "ename": "PyperclipException",
          "evalue": "\n    Pyperclip could not find a copy/paste mechanism for your system.\n    For more information, please visit https://pyperclip.readthedocs.io/en/latest/index.html#not-implemented-error ",
          "traceback": [
            "\u001b[0;31m---------------------------------------------------------------------------\u001b[0m",
            "\u001b[0;31mPyperclipException\u001b[0m                        Traceback (most recent call last)",
            "\u001b[0;32m<ipython-input-5-a42772feff15>\u001b[0m in \u001b[0;36m<cell line: 41>\u001b[0;34m()\u001b[0m\n\u001b[1;32m     39\u001b[0m \u001b[0;34m\u001b[0m\u001b[0m\n\u001b[1;32m     40\u001b[0m \u001b[0;31m# Copia el mensaje al portapapeles\u001b[0m\u001b[0;34m\u001b[0m\u001b[0;34m\u001b[0m\u001b[0m\n\u001b[0;32m---> 41\u001b[0;31m \u001b[0mpyperclip\u001b[0m\u001b[0;34m.\u001b[0m\u001b[0mcopy\u001b[0m\u001b[0;34m(\u001b[0m\u001b[0msalida\u001b[0m\u001b[0;34m)\u001b[0m\u001b[0;34m\u001b[0m\u001b[0;34m\u001b[0m\u001b[0m\n\u001b[0m",
            "\u001b[0;32m/usr/local/lib/python3.10/dist-packages/pyperclip/__init__.py\u001b[0m in \u001b[0;36m__call__\u001b[0;34m(self, *args, **kwargs)\u001b[0m\n\u001b[1;32m    334\u001b[0m \u001b[0;34m\u001b[0m\u001b[0m\n\u001b[1;32m    335\u001b[0m         \u001b[0;32mdef\u001b[0m \u001b[0m__call__\u001b[0m\u001b[0;34m(\u001b[0m\u001b[0mself\u001b[0m\u001b[0;34m,\u001b[0m \u001b[0;34m*\u001b[0m\u001b[0margs\u001b[0m\u001b[0;34m,\u001b[0m \u001b[0;34m**\u001b[0m\u001b[0mkwargs\u001b[0m\u001b[0;34m)\u001b[0m\u001b[0;34m:\u001b[0m\u001b[0;34m\u001b[0m\u001b[0;34m\u001b[0m\u001b[0m\n\u001b[0;32m--> 336\u001b[0;31m             \u001b[0;32mraise\u001b[0m \u001b[0mPyperclipException\u001b[0m\u001b[0;34m(\u001b[0m\u001b[0mEXCEPT_MSG\u001b[0m\u001b[0;34m)\u001b[0m\u001b[0;34m\u001b[0m\u001b[0;34m\u001b[0m\u001b[0m\n\u001b[0m\u001b[1;32m    337\u001b[0m \u001b[0;34m\u001b[0m\u001b[0m\n\u001b[1;32m    338\u001b[0m         \u001b[0;32mif\u001b[0m \u001b[0mPY2\u001b[0m\u001b[0;34m:\u001b[0m\u001b[0;34m\u001b[0m\u001b[0;34m\u001b[0m\u001b[0m\n",
            "\u001b[0;31mPyperclipException\u001b[0m: \n    Pyperclip could not find a copy/paste mechanism for your system.\n    For more information, please visit https://pyperclip.readthedocs.io/en/latest/index.html#not-implemented-error "
          ]
        }
      ],
      "source": [
        "# Cifra César\n",
        "print(\"\"\"Este programa cifra o descifra un mensaje mediante la cifra César \\n\"\"\")\n",
        "\n",
        "import pyperclip\n",
        "\n",
        "# Símbolos que pueden cifrarse\n",
        "ALFABETO = 'ABCDEFGHIJKLMNOPQRSTUVWXYZ '\n",
        "\n",
        "# Almacena la cadena cifrada/descifrada\n",
        "salida = ''\n",
        "\n",
        "# Guarda la opción deseada\n",
        "modo = input('¿Deseas cifrar o descifrar? (c/D) ')\n",
        "\n",
        "# Se almacena el texo y la clave\n",
        "texto = input('Introduce el texto: ')\n",
        "clave = int(input('Y la clave (1-25): '))\n",
        "\n",
        "# Ejecuta el proceso letra a letra\n",
        "for simbolo in texto.upper():\n",
        "  if simbolo in ALFABETO:\n",
        "    # Identifica la posición de cada símbolo\n",
        "    pos = ALFABETO.find(simbolo)\n",
        "    # ejecuta la operación de cifrado/descifrado\n",
        "    if modo == 'c':\n",
        "      pos = (pos + clave) % 26\n",
        "    elif modo == 'D':\n",
        "      pos = (pos - clave) % 26\n",
        "\n",
        "      # Añade el nuevo símbolo a la cadena\n",
        "      salida += ALFABETO[pos]\n",
        "\n",
        "    # Añade a la cadena el símbolo sin cifrar ni descifrar porque no está en el ALFABETO\n",
        "    else:\n",
        "      salida += simbolo\n",
        "\n",
        "# Imprimir en pantalla el resultado\n",
        "print(salida)\n",
        "\n",
        "# Copia el mensaje al portapapeles\n",
        "pyperclip.copy(salida)\n"
      ]
    },
    {
      "cell_type": "code",
      "source": [],
      "metadata": {
        "id": "Ln884rPewbsR"
      },
      "execution_count": null,
      "outputs": []
    }
  ]
}