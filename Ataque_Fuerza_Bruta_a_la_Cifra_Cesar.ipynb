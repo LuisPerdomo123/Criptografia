{
  "nbformat": 4,
  "nbformat_minor": 0,
  "metadata": {
    "colab": {
      "provenance": [],
      "authorship_tag": "ABX9TyM4d/E/MLL3GVhgFkGRMw2N",
      "include_colab_link": true
    },
    "kernelspec": {
      "name": "python3",
      "display_name": "Python 3"
    },
    "language_info": {
      "name": "python"
    }
  },
  "cells": [
    {
      "cell_type": "markdown",
      "metadata": {
        "id": "view-in-github",
        "colab_type": "text"
      },
      "source": [
        "<a href=\"https://colab.research.google.com/github/LuisPerdomo123/Criptografia/blob/main/Ataque_Fuerza_Bruta_a_la_Cifra_Cesar.ipynb\" target=\"_parent\"><img src=\"https://colab.research.google.com/assets/colab-badge.svg\" alt=\"Open In Colab\"/></a>"
      ]
    },
    {
      "cell_type": "markdown",
      "source": [
        "# Ataque de fuerza bruta a la cifra César\n",
        "\n",
        "en criptografía, se denomina ataque de fuerza bruta a la forma de encontrar una clave probando todas las combinaciones posibles de clabes hasta hallar aquella que permite recuperar el texto plano. Es evidente que no se trata de una técnica muy refinada, pero desde luego si efectiva, más aún cuando un ordenador puede probar un enorme número de claves en un tiempo muy reducido. Cuánto más pequeño sea el espacio de claves, es decir, el número de claves totales que pueden usarse en un criptosistema, menor será el tiempo requerido para romper el sistema."
      ],
      "metadata": {
        "id": "_zenU4i0boAI"
      }
    },
    {
      "cell_type": "markdown",
      "source": [
        "Un ataque de fuerza bruta consiste en pribar todas y cada una de las claves posible. La cifra César posee solo 25 claves, que se corresponden con cada uno de los posibles alfabetos de sustitución. Así pues, tan solo han de probarse, en el peor de los casos, 24 desplazamientos hallar la clave."
      ],
      "metadata": {
        "id": "g6ZmRJ5acwkb"
      }
    },
    {
      "cell_type": "code",
      "execution_count": 2,
      "metadata": {
        "colab": {
          "base_uri": "https://localhost:8080/"
        },
        "id": "OnIoG6sUbeOa",
        "outputId": "2c213293-4c3c-4a91-9aac-532e2a128f41"
      },
      "outputs": [
        {
          "output_type": "stream",
          "name": "stdout",
          "text": [
            "Criptograma: pdel ntqcl pd ezelwxpyep tydprfcl\n",
            "Clave 1: pdel ntqcl pd ezelwxpyep tydprfcl\n",
            "Clave 2: pdel ntqcl pd ezelwxpyep tydprfcl\n",
            "Clave 3: pdel ntqcl pd ezelwxpyep tydprfcl\n",
            "Clave 4: pdel ntqcl pd ezelwxpyep tydprfcl\n",
            "Clave 5: pdel ntqcl pd ezelwxpyep tydprfcl\n",
            "Clave 6: pdel ntqcl pd ezelwxpyep tydprfcl\n",
            "Clave 7: pdel ntqcl pd ezelwxpyep tydprfcl\n",
            "Clave 8: pdel ntqcl pd ezelwxpyep tydprfcl\n",
            "Clave 9: pdel ntqcl pd ezelwxpyep tydprfcl\n",
            "Clave 10: pdel ntqcl pd ezelwxpyep tydprfcl\n",
            "Clave 11: pdel ntqcl pd ezelwxpyep tydprfcl\n",
            "Clave 12: pdel ntqcl pd ezelwxpyep tydprfcl\n",
            "Clave 13: pdel ntqcl pd ezelwxpyep tydprfcl\n",
            "Clave 14: pdel ntqcl pd ezelwxpyep tydprfcl\n",
            "Clave 15: pdel ntqcl pd ezelwxpyep tydprfcl\n",
            "Clave 16: pdel ntqcl pd ezelwxpyep tydprfcl\n",
            "Clave 17: pdel ntqcl pd ezelwxpyep tydprfcl\n",
            "Clave 18: pdel ntqcl pd ezelwxpyep tydprfcl\n",
            "Clave 19: pdel ntqcl pd ezelwxpyep tydprfcl\n",
            "Clave 20: pdel ntqcl pd ezelwxpyep tydprfcl\n",
            "Clave 21: pdel ntqcl pd ezelwxpyep tydprfcl\n",
            "Clave 22: pdel ntqcl pd ezelwxpyep tydprfcl\n",
            "Clave 23: pdel ntqcl pd ezelwxpyep tydprfcl\n",
            "Clave 24: pdel ntqcl pd ezelwxpyep tydprfcl\n",
            "Clave 25: pdel ntqcl pd ezelwxpyep tydprfcl\n"
          ]
        }
      ],
      "source": [
        "# Recupera la clave de una cifra César por fuerza bruta\n",
        "\n",
        "ALFABETO = 'ABCDEFGHIJKLMNOPQRSTUVWXYZ'\n",
        "\n",
        "# Almacena el criptograma\n",
        "criptograma = input('Criptograma: ')\n",
        "\n",
        "# Recorre una a una todas las claves (1-25)\n",
        "for clave in range(1, len(ALFABETO)):\n",
        "\n",
        "  # Almacena la cadena descifrada\n",
        "  salida = ''\n",
        "  for simbolo in criptograma:\n",
        "    if simbolo in ALFABETO:\n",
        "      pos = ALFABETO.find(simbolo)\n",
        "      # Descifra el carácter\n",
        "      pos = (pos - clave) % len(ALFABETO)\n",
        "\n",
        "      # Añade el símbolo descifrado a la cadena\n",
        "      salida += simbolo\n",
        "\n",
        "      # Si hay un espacio u otro carácter no\n",
        "      # alfabético lo añade a la cadena sin tocar\n",
        "    else:\n",
        "      salida += simbolo\n",
        "  # Imprime en pantalla el resultado completo\n",
        "  print('Clave %d: %s' % (clave, salida))"
      ]
    },
    {
      "cell_type": "markdown",
      "source": [
        "Basta con leer por encima las salidas generadas por el programa para darse cuenta de que solo la clave 11 produce un tecto llano con sentido en castellano. De modo que el objetivo se ha cumplido: obtener la clave probando todo el espacio de claves y acceder al contenido."
      ],
      "metadata": {
        "id": "zT4juIRLhQn-"
      }
    },
    {
      "cell_type": "code",
      "source": [],
      "metadata": {
        "id": "Lk_cbNS8g4vk"
      },
      "execution_count": null,
      "outputs": []
    }
  ]
}